{
 "cells": [
  {
   "cell_type": "code",
   "execution_count": 2,
   "id": "55694062",
   "metadata": {
    "scrolled": false
   },
   "outputs": [
    {
     "name": "stdout",
     "output_type": "stream",
     "text": [
      "1.4.45\n"
     ]
    }
   ],
   "source": [
    "import sqlalchemy\n",
    "\n",
    "print(sqlalchemy.__version__)"
   ]
  },
  {
   "cell_type": "markdown",
   "id": "4bd1dceb",
   "metadata": {},
   "source": [
    "# Create database"
   ]
  },
  {
   "cell_type": "code",
   "execution_count": 9,
   "id": "c88bce62",
   "metadata": {},
   "outputs": [],
   "source": [
    "from sqlalchemy import create_engine, MetaData, Table, Column, String, Integer, Float, Boolean, inspect"
   ]
  },
  {
   "cell_type": "markdown",
   "id": "fbe4b06e",
   "metadata": {},
   "source": [
    "## SQLite"
   ]
  },
  {
   "cell_type": "code",
   "execution_count": 10,
   "id": "48bf45b9",
   "metadata": {},
   "outputs": [],
   "source": [
    "# Criando um banco de dados SQLite que ainda não existe\n",
    "engine = create_engine(\"sqlite:///data/employees.sqlite\")"
   ]
  },
  {
   "cell_type": "code",
   "execution_count": 11,
   "id": "1f916da5",
   "metadata": {},
   "outputs": [],
   "source": [
    "metadata = MetaData()"
   ]
  },
  {
   "cell_type": "code",
   "execution_count": 12,
   "id": "302fead1",
   "metadata": {},
   "outputs": [
    {
     "data": {
      "text/plain": [
       "['employees']"
      ]
     },
     "execution_count": 12,
     "metadata": {},
     "output_type": "execute_result"
    }
   ],
   "source": [
    "# Criando uma tabela chamada employees no banco de dados armazenado em engine\n",
    "employees = Table('employees', metadata,\n",
    "                  Column('id', Integer()),\n",
    "                  Column('name', String(255), unique=True, nullable=False),\n",
    "                  Column('salary', Float(), default=100.00),\n",
    "                  Column('active', Boolean(), default=True)\n",
    "                 )\n",
    "metadata.create_all(engine)\n",
    "inspect(engine).get_table_names()"
   ]
  },
  {
   "cell_type": "code",
   "execution_count": null,
   "id": "dddcef36",
   "metadata": {},
   "outputs": [],
   "source": []
  }
 ],
 "metadata": {
  "kernelspec": {
   "display_name": "Python 3 (ipykernel)",
   "language": "python",
   "name": "python3"
  },
  "language_info": {
   "codemirror_mode": {
    "name": "ipython",
    "version": 3
   },
   "file_extension": ".py",
   "mimetype": "text/x-python",
   "name": "python",
   "nbconvert_exporter": "python",
   "pygments_lexer": "ipython3",
   "version": "3.10.7"
  }
 },
 "nbformat": 4,
 "nbformat_minor": 5
}
