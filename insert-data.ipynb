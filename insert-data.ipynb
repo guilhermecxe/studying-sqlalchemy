{
 "cells": [
  {
   "cell_type": "code",
   "execution_count": 1,
   "id": "55694062",
   "metadata": {
    "scrolled": false
   },
   "outputs": [
    {
     "name": "stdout",
     "output_type": "stream",
     "text": [
      "1.4.45\n"
     ]
    }
   ],
   "source": [
    "import sqlalchemy\n",
    "\n",
    "print(sqlalchemy.__version__)"
   ]
  },
  {
   "cell_type": "markdown",
   "id": "4bd1dceb",
   "metadata": {},
   "source": [
    "# Insert"
   ]
  },
  {
   "cell_type": "markdown",
   "id": "bb8a588a",
   "metadata": {},
   "source": [
    "Se for necessário criar o banco de dados `employees` novamente, o código que o cria está no notebook `create-database.ipynb`."
   ]
  },
  {
   "cell_type": "code",
   "execution_count": 2,
   "id": "c88bce62",
   "metadata": {},
   "outputs": [],
   "source": [
    "from sqlalchemy import create_engine, select, MetaData, Table, insert"
   ]
  },
  {
   "cell_type": "code",
   "execution_count": 3,
   "id": "302fead1",
   "metadata": {},
   "outputs": [],
   "source": [
    "engine = create_engine(\"sqlite:///data/employees.sqlite\")"
   ]
  },
  {
   "cell_type": "code",
   "execution_count": 4,
   "id": "3ea27323",
   "metadata": {},
   "outputs": [],
   "source": [
    "# Criando uma conexão com o banco para executar comandos\n",
    "connection = engine.connect()"
   ]
  },
  {
   "cell_type": "code",
   "execution_count": 5,
   "id": "f2d6f060",
   "metadata": {},
   "outputs": [],
   "source": [
    "metadata = MetaData()\n",
    "employees = Table('employees', metadata, autoload=True, autoload_with=engine)"
   ]
  },
  {
   "cell_type": "code",
   "execution_count": 6,
   "id": "1ec2364e",
   "metadata": {},
   "outputs": [
    {
     "name": "stdout",
     "output_type": "stream",
     "text": [
      "INSERT INTO employees (id, name, salary, active) VALUES (:id, :name, :salary, :active)\n"
     ]
    },
    {
     "data": {
      "text/plain": [
       "1"
      ]
     },
     "execution_count": 6,
     "metadata": {},
     "output_type": "execute_result"
    }
   ],
   "source": [
    "# Inserindo uma linha na tabela employees\n",
    "statement = insert(employees).values(id=1, name='Jason', salary=1.0, active=True)\n",
    "\n",
    "print(statement)\n",
    "\n",
    "# Executando o comando e obtendo o número de linhas que foram inseridas\n",
    "result_proxy = connection.execute(statement)\n",
    "result_proxy.rowcount"
   ]
  },
  {
   "cell_type": "code",
   "execution_count": 7,
   "id": "4619c1a8",
   "metadata": {},
   "outputs": [
    {
     "data": {
      "text/plain": [
       "2"
      ]
     },
     "execution_count": 7,
     "metadata": {},
     "output_type": "execute_result"
    }
   ],
   "source": [
    "# Inserindo multiplos valores de uma vez na tabela\n",
    "statement = insert(employees)\n",
    "values_list = [\n",
    "    {'id': 2, 'name': 'Rebecca', 'salary': 2.00, 'active': True},\n",
    "    {'id': 3, 'name': 'Bob', 'salary': 0.00, 'active': False}]\n",
    "\n",
    "result_proxy = connection.execute(statement, values_list)\n",
    "result_proxy.rowcount"
   ]
  },
  {
   "cell_type": "code",
   "execution_count": null,
   "id": "56bcdc5f",
   "metadata": {},
   "outputs": [],
   "source": []
  }
 ],
 "metadata": {
  "kernelspec": {
   "display_name": "Python 3 (ipykernel)",
   "language": "python",
   "name": "python3"
  },
  "language_info": {
   "codemirror_mode": {
    "name": "ipython",
    "version": 3
   },
   "file_extension": ".py",
   "mimetype": "text/x-python",
   "name": "python",
   "nbconvert_exporter": "python",
   "pygments_lexer": "ipython3",
   "version": "3.10.7"
  }
 },
 "nbformat": 4,
 "nbformat_minor": 5
}
