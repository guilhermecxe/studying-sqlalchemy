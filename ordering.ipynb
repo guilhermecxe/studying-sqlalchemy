{
 "cells": [
  {
   "cell_type": "code",
   "execution_count": 1,
   "id": "da290e47",
   "metadata": {
    "scrolled": false
   },
   "outputs": [
    {
     "name": "stdout",
     "output_type": "stream",
     "text": [
      "1.4.45\n"
     ]
    }
   ],
   "source": [
    "import sqlalchemy\n",
    "\n",
    "print(sqlalchemy.__version__)"
   ]
  },
  {
   "cell_type": "markdown",
   "id": "80952cc8",
   "metadata": {},
   "source": [
    "# Ordering"
   ]
  },
  {
   "cell_type": "code",
   "execution_count": 2,
   "id": "bd64544d",
   "metadata": {},
   "outputs": [],
   "source": [
    "from sqlalchemy import create_engine, select, MetaData, Table, desc"
   ]
  },
  {
   "cell_type": "code",
   "execution_count": 3,
   "id": "5e872ea6",
   "metadata": {},
   "outputs": [],
   "source": [
    "engine = create_engine(\"sqlite:///data/census.sqlite\")"
   ]
  },
  {
   "cell_type": "code",
   "execution_count": 4,
   "id": "2b2b7d08",
   "metadata": {},
   "outputs": [],
   "source": [
    "# Criando uma conexão com o banco para executar comandos\n",
    "connection = engine.connect()"
   ]
  },
  {
   "cell_type": "code",
   "execution_count": 5,
   "id": "39d03673",
   "metadata": {},
   "outputs": [],
   "source": [
    "metadata = MetaData()\n",
    "census = Table('census', metadata, autoload=True, autoload_with=engine)"
   ]
  },
  {
   "cell_type": "code",
   "execution_count": 7,
   "id": "8a9a70e8",
   "metadata": {},
   "outputs": [
    {
     "data": {
      "text/plain": [
       "[('Alabama',),\n",
       " ('Alabama',),\n",
       " ('Alabama',),\n",
       " ('Alabama',),\n",
       " ('Alabama',),\n",
       " ('Alabama',),\n",
       " ('Alabama',),\n",
       " ('Alabama',),\n",
       " ('Alabama',),\n",
       " ('Alabama',)]"
      ]
     },
     "execution_count": 7,
     "metadata": {},
     "output_type": "execute_result"
    }
   ],
   "source": [
    "statement = select([census.columns.state])\n",
    "\n",
    "# Ordenando a seleção pela coluna state em ordem crescente, ou alfabética\n",
    "statement = statement.order_by(census.columns.state)\n",
    "\n",
    "connection.execute(statement).fetchmany(10)"
   ]
  },
  {
   "cell_type": "code",
   "execution_count": 8,
   "id": "7ed9253e",
   "metadata": {},
   "outputs": [
    {
     "data": {
      "text/plain": [
       "[('Wyoming',),\n",
       " ('Wyoming',),\n",
       " ('Wyoming',),\n",
       " ('Wyoming',),\n",
       " ('Wyoming',),\n",
       " ('Wyoming',),\n",
       " ('Wyoming',),\n",
       " ('Wyoming',),\n",
       " ('Wyoming',),\n",
       " ('Wyoming',)]"
      ]
     },
     "execution_count": 8,
     "metadata": {},
     "output_type": "execute_result"
    }
   ],
   "source": [
    "statement = select([census.columns.state])\n",
    "\n",
    "# Ordenando a seleção pela coluna state em ordem decrescente\n",
    "statement = statement.order_by(desc(census.columns.state))\n",
    "\n",
    "connection.execute(statement).fetchmany(10)"
   ]
  },
  {
   "cell_type": "code",
   "execution_count": 10,
   "id": "11f277d5",
   "metadata": {},
   "outputs": [
    {
     "data": {
      "text/plain": [
       "[('Alabama', 85),\n",
       " ('Alabama', 85),\n",
       " ('Alabama', 85),\n",
       " ('Alabama', 85),\n",
       " ('Alabama', 84),\n",
       " ('Alabama', 84),\n",
       " ('Alabama', 84),\n",
       " ('Alabama', 84),\n",
       " ('Alabama', 83),\n",
       " ('Alabama', 83)]"
      ]
     },
     "execution_count": 10,
     "metadata": {},
     "output_type": "execute_result"
    }
   ],
   "source": [
    "statement = select([census.columns.state, census.columns.age])\n",
    "\n",
    "# Ordenando por state e depois por age, sendo state ascendente e age descendente\n",
    "statement = statement.order_by(census.columns.state, desc(census.columns.age))\n",
    "\n",
    "connection.execute(statement).fetchmany(10)"
   ]
  },
  {
   "cell_type": "code",
   "execution_count": null,
   "id": "55b0ec38",
   "metadata": {},
   "outputs": [],
   "source": []
  }
 ],
 "metadata": {
  "kernelspec": {
   "display_name": "Python 3 (ipykernel)",
   "language": "python",
   "name": "python3"
  },
  "language_info": {
   "codemirror_mode": {
    "name": "ipython",
    "version": 3
   },
   "file_extension": ".py",
   "mimetype": "text/x-python",
   "name": "python",
   "nbconvert_exporter": "python",
   "pygments_lexer": "ipython3",
   "version": "3.10.7"
  }
 },
 "nbformat": 4,
 "nbformat_minor": 5
}
