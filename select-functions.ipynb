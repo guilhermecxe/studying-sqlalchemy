{
 "cells": [
  {
   "cell_type": "code",
   "execution_count": 1,
   "id": "f4de8ee0",
   "metadata": {
    "scrolled": false
   },
   "outputs": [
    {
     "name": "stdout",
     "output_type": "stream",
     "text": [
      "1.4.45\n"
     ]
    }
   ],
   "source": [
    "import sqlalchemy\n",
    "\n",
    "print(sqlalchemy.__version__)"
   ]
  },
  {
   "cell_type": "markdown",
   "id": "1ddbf36d",
   "metadata": {},
   "source": [
    "# Select functions"
   ]
  },
  {
   "cell_type": "code",
   "execution_count": 2,
   "id": "1acbdd90",
   "metadata": {},
   "outputs": [],
   "source": [
    "from sqlalchemy import create_engine, MetaData, Table, select, func"
   ]
  },
  {
   "cell_type": "code",
   "execution_count": 3,
   "id": "ac6cfba8",
   "metadata": {},
   "outputs": [],
   "source": [
    "engine = create_engine(\"sqlite:///data/census.sqlite\")"
   ]
  },
  {
   "cell_type": "code",
   "execution_count": 4,
   "id": "983a3d51",
   "metadata": {},
   "outputs": [],
   "source": [
    "# Criando uma conexão com o banco para executar comandos\n",
    "connection = engine.connect()"
   ]
  },
  {
   "cell_type": "code",
   "execution_count": 5,
   "id": "14fb77fc",
   "metadata": {},
   "outputs": [],
   "source": [
    "metadata = MetaData()\n",
    "census = Table('census', metadata, autoload=True, autoload_with=engine)"
   ]
  },
  {
   "cell_type": "code",
   "execution_count": 7,
   "id": "29f4b1f3",
   "metadata": {},
   "outputs": [
    {
     "data": {
      "text/plain": [
       "51"
      ]
     },
     "execution_count": 7,
     "metadata": {},
     "output_type": "execute_result"
    }
   ],
   "source": [
    "# Obtendo os valores distintos da coluna state e depois contando esses valores\n",
    "statement = select([\n",
    "    func.count(\n",
    "        func.distinct(census.columns.state)\n",
    "    )\n",
    "])\n",
    "\n",
    "# Quando o resultado é apenas 1 valor nós podemos usar .scalar(), ao invés de .fetchall() ou outro, para retornar apenas o valor\n",
    "distinct_state_count = connection.execute(statement).scalar()\n",
    "distinct_state_count"
   ]
  },
  {
   "cell_type": "code",
   "execution_count": 12,
   "id": "ffe79f0c",
   "metadata": {},
   "outputs": [
    {
     "name": "stdout",
     "output_type": "stream",
     "text": [
      "SELECT census.state, count(census.age) AS count_1 \n",
      "FROM census GROUP BY census.state\n"
     ]
    },
    {
     "data": {
      "text/plain": [
       "[('Alabama', 344),\n",
       " ('Alaska', 344),\n",
       " ('Arizona', 344),\n",
       " ('Arkansas', 344),\n",
       " ('California', 344)]"
      ]
     },
     "execution_count": 12,
     "metadata": {},
     "output_type": "execute_result"
    }
   ],
   "source": [
    "# Selecionando a coluna state e uma contagem dos valores de age\n",
    "statement = select([census.columns.state, func.count(census.columns.age)])\n",
    "\n",
    "# Agrupando o statement anterior por valor de state, assim nós contamos a quantidade de valores de age em cada estado\n",
    "statement = statement.group_by(census.columns.state)\n",
    "\n",
    "print(statement)\n",
    "connection.execute(statement).fetchmany(5)"
   ]
  },
  {
   "cell_type": "code",
   "execution_count": 20,
   "id": "047d27a6",
   "metadata": {},
   "outputs": [
    {
     "name": "stdout",
     "output_type": "stream",
     "text": [
      "SELECT census.state, sum(census.pop2008) AS population \n",
      "FROM census GROUP BY census.state\n"
     ]
    },
    {
     "data": {
      "text/plain": [
       "[('Alabama', 9298734),\n",
       " ('Alaska', 1329092),\n",
       " ('Arizona', 12961534),\n",
       " ('Arkansas', 5696864),\n",
       " ('California', 73218004)]"
      ]
     },
     "execution_count": 20,
     "metadata": {},
     "output_type": "execute_result"
    }
   ],
   "source": [
    "# Criando uma coluna chamada population que terá a soma dos valores de pop2008\n",
    "pop2008_sum = func.sum(census.columns.pop2008).label('population')\n",
    "\n",
    "# Selecionando a coluna state e a coluna population\n",
    "statement = select([census.columns.state, pop2008_sum])\n",
    "\n",
    "# Agrupando population por state, então cada linha terá o nome de um estado e sua população em 2008\n",
    "statement = statement.group_by(census.columns.state)\n",
    "\n",
    "print(statement)\n",
    "connection.execute(statement).fetchmany(5)"
   ]
  },
  {
   "cell_type": "code",
   "execution_count": null,
   "id": "ff2b0000",
   "metadata": {},
   "outputs": [],
   "source": []
  }
 ],
 "metadata": {
  "kernelspec": {
   "display_name": "Python 3 (ipykernel)",
   "language": "python",
   "name": "python3"
  },
  "language_info": {
   "codemirror_mode": {
    "name": "ipython",
    "version": 3
   },
   "file_extension": ".py",
   "mimetype": "text/x-python",
   "name": "python",
   "nbconvert_exporter": "python",
   "pygments_lexer": "ipython3",
   "version": "3.10.7"
  }
 },
 "nbformat": 4,
 "nbformat_minor": 5
}
