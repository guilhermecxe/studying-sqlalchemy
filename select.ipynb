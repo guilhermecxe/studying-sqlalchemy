{
 "cells": [
  {
   "cell_type": "code",
   "execution_count": 1,
   "id": "55694062",
   "metadata": {
    "scrolled": false
   },
   "outputs": [
    {
     "name": "stdout",
     "output_type": "stream",
     "text": [
      "1.4.45\n"
     ]
    }
   ],
   "source": [
    "import sqlalchemy\n",
    "\n",
    "print(sqlalchemy.__version__)"
   ]
  },
  {
   "cell_type": "markdown",
   "id": "4bd1dceb",
   "metadata": {},
   "source": [
    "# Select"
   ]
  },
  {
   "cell_type": "code",
   "execution_count": 34,
   "id": "c88bce62",
   "metadata": {},
   "outputs": [],
   "source": [
    "from sqlalchemy import create_engine, select, MetaData, Table, and_"
   ]
  },
  {
   "cell_type": "code",
   "execution_count": 3,
   "id": "302fead1",
   "metadata": {},
   "outputs": [],
   "source": [
    "engine = create_engine(\"sqlite:///data/census.sqlite\")"
   ]
  },
  {
   "cell_type": "code",
   "execution_count": 5,
   "id": "3ea27323",
   "metadata": {},
   "outputs": [],
   "source": [
    "# Criando uma conexão com o banco para executar comandos\n",
    "connection = engine.connect()"
   ]
  },
  {
   "cell_type": "code",
   "execution_count": 15,
   "id": "f2d6f060",
   "metadata": {},
   "outputs": [],
   "source": [
    "metadata = MetaData()\n",
    "census = Table('census', metadata, autoload=True, autoload_with=engine)"
   ]
  },
  {
   "cell_type": "markdown",
   "id": "8bf893f1",
   "metadata": {},
   "source": [
    "## Select with literal SQL"
   ]
  },
  {
   "cell_type": "code",
   "execution_count": 8,
   "id": "0a22e3c5",
   "metadata": {
    "scrolled": true
   },
   "outputs": [
    {
     "data": {
      "text/plain": [
       "[('Illinois', 'M', 0, 89600, 95012),\n",
       " ('Illinois', 'M', 1, 88445, 91829),\n",
       " ('Illinois', 'M', 2, 88729, 89547),\n",
       " ('Illinois', 'M', 3, 88868, 90037),\n",
       " ('Illinois', 'M', 4, 91947, 91111),\n",
       " ('Illinois', 'M', 5, 93894, 89802),\n",
       " ('Illinois', 'M', 6, 93676, 88931),\n",
       " ('Illinois', 'M', 7, 94818, 90940),\n",
       " ('Illinois', 'M', 8, 95035, 86943),\n",
       " ('Illinois', 'M', 9, 96436, 86055)]"
      ]
     },
     "execution_count": 8,
     "metadata": {},
     "output_type": "execute_result"
    }
   ],
   "source": [
    "# Criando um statement SQL\n",
    "statement = \"\"\"\n",
    "SELECT *\n",
    "FROM census\n",
    "LIMIT 10\n",
    "\"\"\"\n",
    "\n",
    "# Executando o statement e obtendo todos os resultados\n",
    "results = connection.execute(statement).fetchall()\n",
    "results"
   ]
  },
  {
   "cell_type": "markdown",
   "id": "783af7e2",
   "metadata": {},
   "source": [
    "## Simple select using functions"
   ]
  },
  {
   "cell_type": "code",
   "execution_count": 31,
   "id": "d80ea96e",
   "metadata": {},
   "outputs": [
    {
     "name": "stdout",
     "output_type": "stream",
     "text": [
      "SELECT census.state, census.sex, census.age, census.pop2000, census.pop2008 \n",
      "FROM census\n"
     ]
    }
   ],
   "source": [
    "# Criando um SELECT sem usar os comandos literais do SQL\n",
    "# No exemplo, obtendo todas as colunas da tabela census\n",
    "statement = select([census])\n",
    "print(statement)"
   ]
  },
  {
   "cell_type": "code",
   "execution_count": 20,
   "id": "90a1419d",
   "metadata": {},
   "outputs": [
    {
     "data": {
      "text/plain": [
       "[('Illinois', 'M', 0, 89600, 95012),\n",
       " ('Illinois', 'M', 1, 88445, 91829),\n",
       " ('Illinois', 'M', 2, 88729, 89547),\n",
       " ('Illinois', 'M', 3, 88868, 90037),\n",
       " ('Illinois', 'M', 4, 91947, 91111),\n",
       " ('Illinois', 'M', 5, 93894, 89802),\n",
       " ('Illinois', 'M', 6, 93676, 88931),\n",
       " ('Illinois', 'M', 7, 94818, 90940),\n",
       " ('Illinois', 'M', 8, 95035, 86943),\n",
       " ('Illinois', 'M', 9, 96436, 86055)]"
      ]
     },
     "execution_count": 20,
     "metadata": {},
     "output_type": "execute_result"
    }
   ],
   "source": [
    "# Obtendo os resultado de select e limitando os resultados em 10\n",
    "results = connection.execute(statement).fetchmany(size=10)\n",
    "results"
   ]
  },
  {
   "cell_type": "code",
   "execution_count": 21,
   "id": "c436c673",
   "metadata": {},
   "outputs": [
    {
     "name": "stdout",
     "output_type": "stream",
     "text": [
      "0\n",
      "0\n",
      "0\n"
     ]
    }
   ],
   "source": [
    "# Formas de acessar a coluna \"age\" da primeira linha\n",
    "print(results[0]['age'])\n",
    "print(results[0].age)\n",
    "print(results[0][2])"
   ]
  },
  {
   "cell_type": "markdown",
   "id": "c73c1630",
   "metadata": {},
   "source": [
    "## Select with where"
   ]
  },
  {
   "cell_type": "code",
   "execution_count": 23,
   "id": "ce71453b",
   "metadata": {},
   "outputs": [
    {
     "data": {
      "text/plain": [
       "[('New York', 'M', 0, 126237, 128088),\n",
       " ('New York', 'M', 1, 124008, 125649),\n",
       " ('New York', 'M', 2, 124725, 121615),\n",
       " ('New York', 'M', 3, 126697, 120580),\n",
       " ('New York', 'M', 4, 131357, 122482),\n",
       " ('New York', 'M', 5, 133095, 121205),\n",
       " ('New York', 'M', 6, 134203, 120089),\n",
       " ('New York', 'M', 7, 137986, 122355),\n",
       " ('New York', 'M', 8, 139455, 118653),\n",
       " ('New York', 'M', 9, 142454, 117369)]"
      ]
     },
     "execution_count": 23,
     "metadata": {},
     "output_type": "execute_result"
    }
   ],
   "source": [
    "# Executando um comando where na coluna state de census\n",
    "statement = select([census])\n",
    "statement = statement.where(census.columns.state == 'New York')\n",
    "\n",
    "results = connection.execute(statement).fetchall()\n",
    "results[:10]"
   ]
  },
  {
   "cell_type": "code",
   "execution_count": 32,
   "id": "71aa4dcf",
   "metadata": {},
   "outputs": [
    {
     "name": "stdout",
     "output_type": "stream",
     "text": [
      "SELECT census.state, census.sex, census.age, census.pop2000, census.pop2008 \n",
      "FROM census \n",
      "WHERE census.state IN (__[POSTCOMPILE_state_1])\n"
     ]
    }
   ],
   "source": [
    "states = ['New York', 'California', 'Texas']\n",
    "statement = select([census])\n",
    "\n",
    "# Obtendo as linhas de census onde state é um dos especificados na lista\n",
    "# Além de .in_() existem também os métodos .between(), .like(), .startswith()\n",
    "statement = statement.where(census.columns.state.in_(states))\n",
    "\n",
    "print(statement)"
   ]
  },
  {
   "cell_type": "code",
   "execution_count": 36,
   "id": "43b86b71",
   "metadata": {},
   "outputs": [
    {
     "data": {
      "text/plain": [
       "[('California', 'F', 0, 239605, 274356),\n",
       " ('California', 'F', 1, 236543, 269140),\n",
       " ('California', 'F', 2, 240010, 262556),\n",
       " ('California', 'F', 3, 245739, 259061),\n",
       " ('California', 'F', 4, 254522, 255544),\n",
       " ('California', 'F', 5, 260264, 253899),\n",
       " ('California', 'F', 6, 261296, 247677),\n",
       " ('California', 'F', 7, 264083, 250117),\n",
       " ('California', 'F', 8, 270447, 233293),\n",
       " ('California', 'F', 9, 271482, 231261)]"
      ]
     },
     "execution_count": 36,
     "metadata": {},
     "output_type": "execute_result"
    }
   ],
   "source": [
    "statement = select([census])\n",
    "\n",
    "# Usando AND para obter registros onde state é California e sex não é M\n",
    "# Além de and_ existem também as funções or_ e not_\n",
    "statement = statement.where(\n",
    "    and_(census.columns.state == 'California',\n",
    "         census.columns.sex != 'M'\n",
    "         )\n",
    ")\n",
    "\n",
    "connection.execute(statement).fetchmany(10)"
   ]
  },
  {
   "cell_type": "code",
   "execution_count": null,
   "id": "7f2e6f08",
   "metadata": {},
   "outputs": [],
   "source": []
  }
 ],
 "metadata": {
  "kernelspec": {
   "display_name": "Python 3 (ipykernel)",
   "language": "python",
   "name": "python3"
  },
  "language_info": {
   "codemirror_mode": {
    "name": "ipython",
    "version": 3
   },
   "file_extension": ".py",
   "mimetype": "text/x-python",
   "name": "python",
   "nbconvert_exporter": "python",
   "pygments_lexer": "ipython3",
   "version": "3.10.7"
  }
 },
 "nbformat": 4,
 "nbformat_minor": 5
}
