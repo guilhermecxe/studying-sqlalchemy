{
 "cells": [
  {
   "cell_type": "code",
   "execution_count": 1,
   "id": "55694062",
   "metadata": {
    "scrolled": true
   },
   "outputs": [
    {
     "name": "stdout",
     "output_type": "stream",
     "text": [
      "1.4.45\n"
     ]
    }
   ],
   "source": [
    "import sqlalchemy\n",
    "\n",
    "print(sqlalchemy.__version__)"
   ]
  },
  {
   "cell_type": "code",
   "execution_count": 29,
   "id": "c88bce62",
   "metadata": {},
   "outputs": [],
   "source": [
    "from sqlalchemy import create_engine, MetaData, Table, Column, Integer, LargeBinary, String, inspect, insert, select"
   ]
  },
  {
   "cell_type": "code",
   "execution_count": 21,
   "id": "48bf45b9",
   "metadata": {},
   "outputs": [],
   "source": [
    "# Criando um banco de dados SQLite que ainda não existe\n",
    "engine = create_engine(\"sqlite:///data/binary.sqlite\")"
   ]
  },
  {
   "cell_type": "code",
   "execution_count": 22,
   "id": "1f916da5",
   "metadata": {},
   "outputs": [],
   "source": [
    "metadata = MetaData()"
   ]
  },
  {
   "cell_type": "markdown",
   "id": "fbe4b06e",
   "metadata": {},
   "source": [
    "## Criando uma tabela com um dado binário"
   ]
  },
  {
   "cell_type": "code",
   "execution_count": 23,
   "id": "302fead1",
   "metadata": {},
   "outputs": [
    {
     "data": {
      "text/plain": [
       "['binary']"
      ]
     },
     "execution_count": 23,
     "metadata": {},
     "output_type": "execute_result"
    }
   ],
   "source": [
    "# Criando uma tabela chamada employees no banco de dados armazenado em engine\n",
    "binary = Table('binary', metadata,\n",
    "                  Column('id', Integer(), primary_key=True),\n",
    "                  Column('file_name', String(255), unique=True, nullable=False),\n",
    "                  Column('file', LargeBinary(), nullable=False)\n",
    "                 )\n",
    "metadata.create_all(engine)\n",
    "inspect(engine).get_table_names()"
   ]
  },
  {
   "cell_type": "markdown",
   "id": "d05bd808",
   "metadata": {},
   "source": [
    "## Inserindo um arquivo binário"
   ]
  },
  {
   "cell_type": "code",
   "execution_count": 24,
   "id": "a59e50d5",
   "metadata": {},
   "outputs": [],
   "source": [
    "connection = engine.connect()"
   ]
  },
  {
   "cell_type": "code",
   "execution_count": 27,
   "id": "90450654",
   "metadata": {},
   "outputs": [
    {
     "data": {
      "text/plain": [
       "1"
      ]
     },
     "execution_count": 27,
     "metadata": {},
     "output_type": "execute_result"
    }
   ],
   "source": [
    "file_path = 'data/image.jpg'\n",
    "file_name = file_path.split('/')[-1]\n",
    "with open(file_path, 'rb') as file:\n",
    "    statement = insert(binary).values(file_name=file_name, file=file.read())\n",
    "    \n",
    "connection.execute(statement).rowcount"
   ]
  },
  {
   "cell_type": "markdown",
   "id": "758e6f3c",
   "metadata": {},
   "source": [
    "## Lendo um arquivo binário"
   ]
  },
  {
   "cell_type": "code",
   "execution_count": 35,
   "id": "1d848050",
   "metadata": {},
   "outputs": [],
   "source": [
    "statement = select([binary.columns.file]).limit(1)\n",
    "\n",
    "data = connection.execute(statement).scalar()\n",
    "with open('data/image2.jpg', 'wb') as file:\n",
    "    file.write(data)"
   ]
  },
  {
   "cell_type": "code",
   "execution_count": null,
   "id": "76e7f4fc",
   "metadata": {},
   "outputs": [],
   "source": []
  }
 ],
 "metadata": {
  "kernelspec": {
   "display_name": "Python 3 (ipykernel)",
   "language": "python",
   "name": "python3"
  },
  "language_info": {
   "codemirror_mode": {
    "name": "ipython",
    "version": 3
   },
   "file_extension": ".py",
   "mimetype": "text/x-python",
   "name": "python",
   "nbconvert_exporter": "python",
   "pygments_lexer": "ipython3",
   "version": "3.10.7"
  }
 },
 "nbformat": 4,
 "nbformat_minor": 5
}
