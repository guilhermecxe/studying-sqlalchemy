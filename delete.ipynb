{
 "cells": [
  {
   "cell_type": "code",
   "execution_count": 1,
   "id": "55694062",
   "metadata": {
    "scrolled": false
   },
   "outputs": [
    {
     "name": "stdout",
     "output_type": "stream",
     "text": [
      "1.4.45\n"
     ]
    }
   ],
   "source": [
    "import sqlalchemy\n",
    "\n",
    "print(sqlalchemy.__version__)"
   ]
  },
  {
   "cell_type": "markdown",
   "id": "1564cb93",
   "metadata": {},
   "source": [
    "## Temporary database"
   ]
  },
  {
   "cell_type": "code",
   "execution_count": 22,
   "id": "c88bce62",
   "metadata": {},
   "outputs": [],
   "source": [
    "from sqlalchemy import create_engine, select, MetaData, Table, delete, Column, String, Integer, Float, Boolean, insert, inspect"
   ]
  },
  {
   "cell_type": "code",
   "execution_count": 23,
   "id": "9cff8277",
   "metadata": {},
   "outputs": [],
   "source": [
    "# Criando\n",
    "engine = create_engine(\"sqlite:///data/temp-employees.sqlite\")\n",
    "metadata = MetaData()\n",
    "employees = Table('employees', metadata,\n",
    "                  Column('id', Integer()),\n",
    "                  Column('name', String(255), unique=True, nullable=False),\n",
    "                  Column('salary', Float(), default=100.00),\n",
    "                  Column('active', Boolean(), default=True)\n",
    "                 )\n",
    "metadata.create_all(engine)\n",
    "connection = engine.connect()\n",
    "\n",
    "# Inserindo\n",
    "statement = insert(employees)\n",
    "values_list = [\n",
    "    {'id': 1, 'name': 'Jason', 'salary': 1.00, 'active': True},\n",
    "    {'id': 2, 'name': 'Rebecca', 'salary': 2.00, 'active': True},\n",
    "    {'id': 3, 'name': 'Bob', 'salary': 0.00, 'active': False}]\n",
    "result_proxy = connection.execute(statement, values_list)"
   ]
  },
  {
   "cell_type": "code",
   "execution_count": 15,
   "id": "ee79f0c2",
   "metadata": {},
   "outputs": [
    {
     "data": {
      "text/plain": [
       "[(1, 'Jason', 1.0, True), (2, 'Rebecca', 2.0, True), (3, 'Bob', 0.0, False)]"
      ]
     },
     "execution_count": 15,
     "metadata": {},
     "output_type": "execute_result"
    }
   ],
   "source": [
    "connection.execute(select([employees])).fetchall()"
   ]
  },
  {
   "cell_type": "markdown",
   "id": "4bd1dceb",
   "metadata": {},
   "source": [
    "# Delete data"
   ]
  },
  {
   "cell_type": "code",
   "execution_count": 16,
   "id": "c4918f8f",
   "metadata": {},
   "outputs": [
    {
     "data": {
      "text/plain": [
       "1"
      ]
     },
     "execution_count": 16,
     "metadata": {},
     "output_type": "execute_result"
    }
   ],
   "source": [
    "# Deletando apenas a linha em que id é igual a 3\n",
    "delete_stmt = delete(employees).where(employees.columns.id == 3)\n",
    "\n",
    "result_proxy = connection.execute(delete_stmt)\n",
    "result_proxy.rowcount"
   ]
  },
  {
   "cell_type": "code",
   "execution_count": 17,
   "id": "f8de8bdc",
   "metadata": {},
   "outputs": [
    {
     "data": {
      "text/plain": [
       "2"
      ]
     },
     "execution_count": 17,
     "metadata": {},
     "output_type": "execute_result"
    }
   ],
   "source": [
    "# Deletando todos os dados da tabela\n",
    "delete_stmt = delete(employees)\n",
    "\n",
    "result_proxy = connection.execute(delete_stmt)\n",
    "result_proxy.rowcount"
   ]
  },
  {
   "cell_type": "code",
   "execution_count": 24,
   "id": "ea43852f",
   "metadata": {},
   "outputs": [
    {
     "data": {
      "text/plain": [
       "False"
      ]
     },
     "execution_count": 24,
     "metadata": {},
     "output_type": "execute_result"
    }
   ],
   "source": [
    "# Deletando a tabela employees\n",
    "employees.drop(engine)\n",
    "inspect(engine).has_table('employees')"
   ]
  },
  {
   "cell_type": "code",
   "execution_count": 26,
   "id": "aa613833",
   "metadata": {},
   "outputs": [
    {
     "data": {
      "text/plain": [
       "[]"
      ]
     },
     "execution_count": 26,
     "metadata": {},
     "output_type": "execute_result"
    }
   ],
   "source": [
    "# Deletando todas as tabelas em engine\n",
    "metadata.drop_all(engine)\n",
    "inspect(engine).get_table_names()"
   ]
  },
  {
   "cell_type": "code",
   "execution_count": null,
   "id": "06536b60",
   "metadata": {},
   "outputs": [],
   "source": []
  }
 ],
 "metadata": {
  "kernelspec": {
   "display_name": "Python 3 (ipykernel)",
   "language": "python",
   "name": "python3"
  },
  "language_info": {
   "codemirror_mode": {
    "name": "ipython",
    "version": 3
   },
   "file_extension": ".py",
   "mimetype": "text/x-python",
   "name": "python",
   "nbconvert_exporter": "python",
   "pygments_lexer": "ipython3",
   "version": "3.10.7"
  }
 },
 "nbformat": 4,
 "nbformat_minor": 5
}
