{
 "cells": [
  {
   "cell_type": "code",
   "execution_count": 1,
   "id": "55694062",
   "metadata": {
    "scrolled": false
   },
   "outputs": [
    {
     "name": "stdout",
     "output_type": "stream",
     "text": [
      "1.4.45\n"
     ]
    }
   ],
   "source": [
    "import sqlalchemy\n",
    "\n",
    "print(sqlalchemy.__version__)"
   ]
  },
  {
   "cell_type": "markdown",
   "id": "4bd1dceb",
   "metadata": {},
   "source": [
    "# Update data"
   ]
  },
  {
   "cell_type": "code",
   "execution_count": 14,
   "id": "c88bce62",
   "metadata": {},
   "outputs": [],
   "source": [
    "from sqlalchemy import create_engine, select, MetaData, Table, update, desc"
   ]
  },
  {
   "cell_type": "code",
   "execution_count": 7,
   "id": "302fead1",
   "metadata": {},
   "outputs": [],
   "source": [
    "engine = create_engine(\"sqlite:///data/employees.sqlite\")"
   ]
  },
  {
   "cell_type": "code",
   "execution_count": 8,
   "id": "3ea27323",
   "metadata": {},
   "outputs": [],
   "source": [
    "# Criando uma conexão com o banco para executar comandos\n",
    "connection = engine.connect()"
   ]
  },
  {
   "cell_type": "code",
   "execution_count": 9,
   "id": "f2d6f060",
   "metadata": {},
   "outputs": [],
   "source": [
    "metadata = MetaData()\n",
    "employees = Table('employees', metadata, autoload=True, autoload_with=engine)"
   ]
  },
  {
   "cell_type": "code",
   "execution_count": 10,
   "id": "992e27b7",
   "metadata": {},
   "outputs": [
    {
     "data": {
      "text/plain": [
       "1"
      ]
     },
     "execution_count": 10,
     "metadata": {},
     "output_type": "execute_result"
    }
   ],
   "source": [
    "# Atualizando o valor de active da linha cujo id é 3 da tabela employees\n",
    "statement = update(employees)\n",
    "statement = statement.where(employees.columns.id == 3)\n",
    "statement = statement.values(active=True)\n",
    "\n",
    "result_proxy = connection.execute(statement)\n",
    "result_proxy.rowcount"
   ]
  },
  {
   "cell_type": "code",
   "execution_count": 12,
   "id": "6d06b59d",
   "metadata": {},
   "outputs": [
    {
     "data": {
      "text/plain": [
       "3"
      ]
     },
     "execution_count": 12,
     "metadata": {},
     "output_type": "execute_result"
    }
   ],
   "source": [
    "# Atualizando os valores de active e de salary de todos as linhas com active igual a True\n",
    "statement = update(employees)\n",
    "statement = statement.where(employees.columns.active == True)\n",
    "statement = statement.values(active=False, salary=0.00)\n",
    "\n",
    "result_proxy = connection.execute(statement)\n",
    "result_proxy.rowcount"
   ]
  },
  {
   "cell_type": "code",
   "execution_count": 16,
   "id": "edab835f",
   "metadata": {},
   "outputs": [
    {
     "data": {
      "text/plain": [
       "3"
      ]
     },
     "execution_count": 16,
     "metadata": {},
     "output_type": "execute_result"
    }
   ],
   "source": [
    "# Obtendo a coluna salary de employees e ordenado do maior para o menor\n",
    "new_salary = select([employees.columns.salary])\n",
    "new_salary = new_salary.order_by(\n",
    "    desc(employees.columns.salary))\n",
    "\n",
    "# Obtendo o primeiro valor, ou seja, o maior\n",
    "new_salary = new_salary.limit(1)\n",
    "\n",
    "# Atualizando todos os valores de salary para o maior valor\n",
    "statement = update(employees)\n",
    "statement = statement.values(salary=new_salary.scalar_subquery())\n",
    "\n",
    "result_proxy = connection.execute(statement)\n",
    "result_proxy.rowcount"
   ]
  },
  {
   "cell_type": "code",
   "execution_count": null,
   "id": "88dccc5b",
   "metadata": {},
   "outputs": [],
   "source": []
  }
 ],
 "metadata": {
  "kernelspec": {
   "display_name": "Python 3 (ipykernel)",
   "language": "python",
   "name": "python3"
  },
  "language_info": {
   "codemirror_mode": {
    "name": "ipython",
    "version": 3
   },
   "file_extension": ".py",
   "mimetype": "text/x-python",
   "name": "python",
   "nbconvert_exporter": "python",
   "pygments_lexer": "ipython3",
   "version": "3.10.7"
  }
 },
 "nbformat": 4,
 "nbformat_minor": 5
}
